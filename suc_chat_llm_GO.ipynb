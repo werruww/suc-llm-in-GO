{
  "nbformat": 4,
  "nbformat_minor": 0,
  "metadata": {
    "colab": {
      "provenance": []
    },
    "kernelspec": {
      "name": "python3",
      "display_name": "Python 3"
    },
    "language_info": {
      "name": "python"
    }
  },
  "cells": [
    {
      "cell_type": "code",
      "execution_count": null,
      "metadata": {
        "id": "MFZeR3gHqWnR"
      },
      "outputs": [],
      "source": []
    },
    {
      "cell_type": "code",
      "source": [],
      "metadata": {
        "id": "IlyTq2elqn6X"
      },
      "execution_count": null,
      "outputs": []
    },
    {
      "cell_type": "code",
      "source": [],
      "metadata": {
        "id": "XKGfg3jxqn99"
      },
      "execution_count": null,
      "outputs": []
    },
    {
      "cell_type": "code",
      "source": [],
      "metadata": {
        "id": "OeOkW-r8qoBO"
      },
      "execution_count": null,
      "outputs": []
    },
    {
      "cell_type": "code",
      "source": [],
      "metadata": {
        "id": "9QWwXzmNqoEN"
      },
      "execution_count": null,
      "outputs": []
    },
    {
      "cell_type": "code",
      "source": [
        "!wget https://golang.org/dl/go1.22.4.linux-amd64.tar.gz\n",
        "!sudo rm -rf /usr/local/go && sudo tar -C /usr/local -xzf go1.22.4.linux-amd64.tar.gz\n",
        "!export PATH=$PATH:/usr/local/go/bin\n"
      ],
      "metadata": {
        "colab": {
          "base_uri": "https://localhost:8080/"
        },
        "id": "lFCCg5YAqoGl",
        "outputId": "7f85d78f-dc9d-446e-9df7-3257d69fa191"
      },
      "execution_count": 1,
      "outputs": [
        {
          "output_type": "stream",
          "name": "stdout",
          "text": [
            "--2025-04-29 22:29:01--  https://golang.org/dl/go1.22.4.linux-amd64.tar.gz\n",
            "Resolving golang.org (golang.org)... 64.233.181.141, 2607:f8b0:4001:c09::8d\n",
            "Connecting to golang.org (golang.org)|64.233.181.141|:443... connected.\n",
            "HTTP request sent, awaiting response... 301 Moved Permanently\n",
            "Location: https://go.dev/dl/go1.22.4.linux-amd64.tar.gz [following]\n",
            "--2025-04-29 22:29:01--  https://go.dev/dl/go1.22.4.linux-amd64.tar.gz\n",
            "Resolving go.dev (go.dev)... 216.239.34.21, 216.239.36.21, 216.239.38.21, ...\n",
            "Connecting to go.dev (go.dev)|216.239.34.21|:443... connected.\n",
            "HTTP request sent, awaiting response... 302 Found\n",
            "Location: https://dl.google.com/go/go1.22.4.linux-amd64.tar.gz [following]\n",
            "--2025-04-29 22:29:01--  https://dl.google.com/go/go1.22.4.linux-amd64.tar.gz\n",
            "Resolving dl.google.com (dl.google.com)... 64.233.181.93, 64.233.181.91, 64.233.181.190, ...\n",
            "Connecting to dl.google.com (dl.google.com)|64.233.181.93|:443... connected.\n",
            "HTTP request sent, awaiting response... 200 OK\n",
            "Length: 68964131 (66M) [application/x-gzip]\n",
            "Saving to: ‘go1.22.4.linux-amd64.tar.gz’\n",
            "\n",
            "go1.22.4.linux-amd6 100%[===================>]  65.77M   385MB/s    in 0.2s    \n",
            "\n",
            "2025-04-29 22:29:01 (385 MB/s) - ‘go1.22.4.linux-amd64.tar.gz’ saved [68964131/68964131]\n",
            "\n",
            "/bin/bash: line 1: go: command not found\n"
          ]
        }
      ]
    },
    {
      "cell_type": "code",
      "source": [
        "# تحقق من التثبيت\n",
        "!go version"
      ],
      "metadata": {
        "colab": {
          "base_uri": "https://localhost:8080/"
        },
        "id": "O9uodtbSqvov",
        "outputId": "62659bfd-0f18-455f-b347-aed7a9adba39"
      },
      "execution_count": 1,
      "outputs": [
        {
          "output_type": "stream",
          "name": "stdout",
          "text": [
            "/bin/bash: line 1: go: command not found\n"
          ]
        }
      ]
    },
    {
      "cell_type": "code",
      "source": [
        "!wget https://go.dev/dl/go1.22.4.linux-amd64.tar.gz # تم التحديث إلى go.dev كما هو موضح في الإخراج\n",
        "!sudo rm -rf /usr/local/go && sudo tar -C /usr/local -xzf go1.22.4.linux-amd64.tar.gz\n",
        "\n",
        "# --- الطريقة الأولى: استخدام المسار الكامل (موصى به في Colab) ---\n",
        "!/usr/local/go/bin/go version\n",
        "\n",
        "# --- الطريقة الثانية: دمج export مع الأمر (للتحقق فقط) ---\n",
        "# !export PATH=$PATH:/usr/local/go/bin && go version"
      ],
      "metadata": {
        "colab": {
          "base_uri": "https://localhost:8080/"
        },
        "id": "81utGkFQrV6N",
        "outputId": "758d3c81-f66a-4478-9f3f-d5ece92eb219"
      },
      "execution_count": 3,
      "outputs": [
        {
          "output_type": "stream",
          "name": "stdout",
          "text": [
            "--2025-04-29 22:31:41--  https://go.dev/dl/go1.22.4.linux-amd64.tar.gz\n",
            "Resolving go.dev (go.dev)... 216.239.34.21, 216.239.38.21, 216.239.32.21, ...\n",
            "Connecting to go.dev (go.dev)|216.239.34.21|:443... connected.\n",
            "HTTP request sent, awaiting response... 302 Found\n",
            "Location: https://dl.google.com/go/go1.22.4.linux-amd64.tar.gz [following]\n",
            "--2025-04-29 22:31:41--  https://dl.google.com/go/go1.22.4.linux-amd64.tar.gz\n",
            "Resolving dl.google.com (dl.google.com)... 172.217.214.136, 172.217.214.93, 172.217.214.91, ...\n",
            "Connecting to dl.google.com (dl.google.com)|172.217.214.136|:443... connected.\n",
            "HTTP request sent, awaiting response... 200 OK\n",
            "Length: 68964131 (66M) [application/x-gzip]\n",
            "Saving to: ‘go1.22.4.linux-amd64.tar.gz.1’\n",
            "\n",
            "go1.22.4.linux-amd6 100%[===================>]  65.77M   379MB/s    in 0.2s    \n",
            "\n",
            "2025-04-29 22:31:42 (379 MB/s) - ‘go1.22.4.linux-amd64.tar.gz.1’ saved [68964131/68964131]\n",
            "\n",
            "go version go1.22.4 linux/amd64\n"
          ]
        }
      ]
    },
    {
      "cell_type": "code",
      "source": [
        "!/usr/local/go/bin/go mod init chatbot # تهيئة وحدة Go\n",
        "!/usr/local/go/bin/go get github.com/google/generative-ai-go/genai google.golang.org/api/option"
      ],
      "metadata": {
        "colab": {
          "base_uri": "https://localhost:8080/"
        },
        "id": "RabFsdBbrV3H",
        "outputId": "8e5c510a-d4de-4e22-eea5-3ea910dbdec4"
      },
      "execution_count": 4,
      "outputs": [
        {
          "output_type": "stream",
          "name": "stdout",
          "text": [
            "go: creating new go.mod: module chatbot\n",
            "go: to add module requirements and sums:\n",
            "\tgo mod tidy\n",
            "go: downloading google.golang.org/api v0.231.0\n",
            "go: downloading github.com/google/generative-ai-go v0.19.0\n",
            "go: google.golang.org/api@v0.231.0 requires go >= 1.23.0; switching to go1.23.8\n",
            "go: downloading go1.23.8 (linux/amd64)\n",
            "go: downloading cloud.google.com/go/auth v0.16.1\n",
            "go: downloading golang.org/x/oauth2 v0.29.0\n",
            "go: downloading google.golang.org/grpc v1.72.0\n",
            "go: downloading cloud.google.com/go v0.115.0\n",
            "go: downloading cloud.google.com/go/ai v0.8.0\n",
            "go: downloading github.com/googleapis/gax-go/v2 v2.14.1\n",
            "go: downloading google.golang.org/genproto/googleapis/rpc v0.0.0-20250425173222-7b384671a197\n",
            "go: downloading google.golang.org/protobuf v1.36.6\n",
            "go: downloading cloud.google.com/go/compute/metadata v0.6.0\n",
            "go: downloading cloud.google.com/go/auth/oauth2adapt v0.2.8\n",
            "go: downloading github.com/google/s2a-go v0.1.9\n",
            "go: downloading cloud.google.com/go/longrunning v0.5.7\n",
            "go: downloading google.golang.org/genproto/googleapis/api v0.0.0-20240617180043-68d350f18fd4\n",
            "go: downloading golang.org/x/net v0.39.0\n",
            "go: downloading golang.org/x/sys v0.32.0\n",
            "go: downloading github.com/googleapis/enterprise-certificate-proxy v0.3.6\n",
            "go: downloading go.opentelemetry.io/contrib/instrumentation/google.golang.org/grpc/otelgrpc v0.60.0\n",
            "go: downloading golang.org/x/time v0.11.0\n",
            "go: downloading go.opentelemetry.io/contrib/instrumentation/net/http/otelhttp v0.60.0\n",
            "go: downloading github.com/google/uuid v1.6.0\n",
            "go: downloading go.opentelemetry.io/otel v1.35.0\n",
            "go: downloading go.opentelemetry.io/otel/metric v1.35.0\n",
            "go: downloading go.opentelemetry.io/otel/trace v1.35.0\n",
            "go: downloading github.com/felixge/httpsnoop v1.0.4\n",
            "go: downloading github.com/go-logr/logr v1.4.2\n",
            "go: downloading golang.org/x/text v0.24.0\n",
            "go: downloading golang.org/x/crypto v0.37.0\n",
            "go: downloading go.opentelemetry.io/auto/sdk v1.1.0\n",
            "go: downloading github.com/go-logr/stdr v1.2.2\n",
            "go: downloading golang.org/x/sync v0.13.0\n",
            "go: downloading google.golang.org/genproto/googleapis/api v0.0.0-20250218202821-56aae31c358a\n",
            "go: upgraded go 1.22.4 => 1.23.0\n",
            "go: added toolchain go1.23.8\n",
            "go: added cloud.google.com/go v0.115.0\n",
            "go: added cloud.google.com/go/ai v0.8.0\n",
            "go: added cloud.google.com/go/auth v0.16.1\n",
            "go: added cloud.google.com/go/auth/oauth2adapt v0.2.8\n",
            "go: added cloud.google.com/go/compute/metadata v0.6.0\n",
            "go: added cloud.google.com/go/longrunning v0.5.7\n",
            "go: added github.com/felixge/httpsnoop v1.0.4\n",
            "go: added github.com/go-logr/logr v1.4.2\n",
            "go: added github.com/go-logr/stdr v1.2.2\n",
            "go: added github.com/google/generative-ai-go v0.19.0\n",
            "go: added github.com/google/s2a-go v0.1.9\n",
            "go: added github.com/google/uuid v1.6.0\n",
            "go: added github.com/googleapis/enterprise-certificate-proxy v0.3.6\n",
            "go: added github.com/googleapis/gax-go/v2 v2.14.1\n",
            "go: added go.opentelemetry.io/auto/sdk v1.1.0\n",
            "go: added go.opentelemetry.io/contrib/instrumentation/google.golang.org/grpc/otelgrpc v0.60.0\n",
            "go: added go.opentelemetry.io/contrib/instrumentation/net/http/otelhttp v0.60.0\n",
            "go: added go.opentelemetry.io/otel v1.35.0\n",
            "go: added go.opentelemetry.io/otel/metric v1.35.0\n",
            "go: added go.opentelemetry.io/otel/trace v1.35.0\n",
            "go: added golang.org/x/crypto v0.37.0\n",
            "go: added golang.org/x/net v0.39.0\n",
            "go: added golang.org/x/oauth2 v0.29.0\n",
            "go: added golang.org/x/sync v0.13.0\n",
            "go: added golang.org/x/sys v0.32.0\n",
            "go: added golang.org/x/text v0.24.0\n",
            "go: added golang.org/x/time v0.11.0\n",
            "go: added google.golang.org/api v0.231.0\n",
            "go: added google.golang.org/genproto/googleapis/api v0.0.0-20250218202821-56aae31c358a\n",
            "go: added google.golang.org/genproto/googleapis/rpc v0.0.0-20250425173222-7b384671a197\n",
            "go: added google.golang.org/grpc v1.72.0\n",
            "go: added google.golang.org/protobuf v1.36.6\n"
          ]
        }
      ]
    },
    {
      "cell_type": "code",
      "source": [
        "!/usr/local/go/bin/go build chatbot.go\n",
        "!./chatbot"
      ],
      "metadata": {
        "colab": {
          "base_uri": "https://localhost:8080/"
        },
        "id": "qnzPLTBBrVv1",
        "outputId": "52cb77ad-0693-4900-fa4a-399df3e32407"
      },
      "execution_count": 5,
      "outputs": [
        {
          "output_type": "stream",
          "name": "stdout",
          "text": [
            "no required module provides package chatbot.go; to add it:\n",
            "\tgo get chatbot.go\n",
            "/bin/bash: line 1: ./chatbot: No such file or directory\n"
          ]
        }
      ]
    },
    {
      "cell_type": "code",
      "source": [],
      "metadata": {
        "id": "ZsPciIVRrVst"
      },
      "execution_count": null,
      "outputs": []
    },
    {
      "cell_type": "code",
      "source": [],
      "metadata": {
        "id": "ZzYjMjDorVpU"
      },
      "execution_count": null,
      "outputs": []
    },
    {
      "cell_type": "code",
      "source": [],
      "metadata": {
        "id": "AcUF9AemrVll"
      },
      "execution_count": null,
      "outputs": []
    },
    {
      "cell_type": "code",
      "source": [
        "!go mod init chatbot # تهيئة وحدة Go إذا لم تكن موجودة\n",
        "!go get github.com/google/generative-ai-go/genai google.golang.org/api/option"
      ],
      "metadata": {
        "colab": {
          "base_uri": "https://localhost:8080/"
        },
        "id": "_BqIS8fBq9nl",
        "outputId": "015d6b5f-ee84-416b-bbd8-22674b53593c"
      },
      "execution_count": 2,
      "outputs": [
        {
          "output_type": "stream",
          "name": "stdout",
          "text": [
            "/bin/bash: line 1: go: command not found\n",
            "/bin/bash: line 1: go: command not found\n"
          ]
        }
      ]
    },
    {
      "cell_type": "code",
      "source": [],
      "metadata": {
        "id": "bEDOPIDcq9kd"
      },
      "execution_count": null,
      "outputs": []
    },
    {
      "cell_type": "code",
      "source": [
        "%%writefile chatbot.go\n",
        "package main\n",
        "\n",
        "import (\n",
        "\t\"bufio\"\n",
        "\t\"context\"\n",
        "\t\"fmt\"\n",
        "\t\"log\"\n",
        "\t\"os\"\n",
        "\t\"strings\"\n",
        "\n",
        "\t\"github.com/google/generative-ai-go/genai\"\n",
        "\t\"google.golang.org/api/option\"\n",
        "\n",
        "    // نحتاج إلى استيراد مكتبة userdata للوصول إلى الأسرار في Colab\n",
        "    // هذا ليس جزءًا من Go القياسي، بل خاص ببيئة Colab Python\n",
        "    // لذلك، سنقرأ المفتاح من متغير بيئة يتم تعيينه لاحقًا\n",
        ")\n",
        "\n",
        "func main() {\n",
        "\t// قراءة مفتاح API من متغير البيئة\n",
        "    // سيتم تعيين هذا المتغير في خطوة التشغيل التالية\n",
        "\tapiKey := os.Getenv(\"GEMINI_API_KEY_ENV\")\n",
        "\tif apiKey == \"\" {\n",
        "\t\tlog.Fatal(\"لم يتم تعيين متغير البيئة GEMINI_API_KEY_ENV\")\n",
        "\t}\n",
        "\n",
        "\tctx := context.Background()\n",
        "\t// إنشاء عميل Gemini\n",
        "\tclient, err := genai.NewClient(ctx, option.WithAPIKey(apiKey))\n",
        "\tif err != nil {\n",
        "\t\tlog.Fatalf(\"فشل في إنشاء العميل: %v\", err)\n",
        "\t}\n",
        "\tdefer client.Close()\n",
        "\n",
        "\t// اختيار نموذج Gemini (gemini-1.5-flash هو خيار جيد وسريع ومجاني للاستخدامات الأساسية)\n",
        "\tmodel := client.GenerativeModel(\"gemini-1.5-flash-latest\")\n",
        "    // يمكنك أيضًا تجربة \"gemini-pro\"\n",
        "\n",
        "\tfmt.Println(\"مرحباً! أنا شات بوت بسيط. اكتب 'خروج' للإنهاء.\")\n",
        "\tfmt.Println(\"----------------------------------------------\")\n",
        "\n",
        "\t// بدء حلقة المحادثة\n",
        "\tscanner := bufio.NewScanner(os.Stdin)\n",
        "\tfor {\n",
        "\t\tfmt.Print(\"أنت: \")\n",
        "\t\t// قراءة إدخال المستخدم\n",
        "\t\tif !scanner.Scan() {\n",
        "\t\t\tif err := scanner.Err(); err != nil {\n",
        "\t\t\t\tlog.Printf(\"خطأ في قراءة الإدخال: %v\", err)\n",
        "\t\t\t}\n",
        "\t\t\tbreak // الخروج إذا كان هناك خطأ أو نهاية الإدخال\n",
        "\t\t}\n",
        "\t\tuserInput := scanner.Text()\n",
        "\n",
        "\t\t// التحقق من أمر الخروج\n",
        "\t\tif strings.ToLower(userInput) == \"خروج\" {\n",
        "\t\t\tfmt.Println(\"وداعاً!\")\n",
        "\t\t\tbreak\n",
        "\t\t}\n",
        "\n",
        "\t\t// إرسال الإدخال إلى نموذج Gemini\n",
        "\t\tresp, err := model.GenerateContent(ctx, genai.Text(userInput))\n",
        "\t\tif err != nil {\n",
        "\t\t\tlog.Printf(\"فشل في إنشاء الاستجابة: %v\", err)\n",
        "            fmt.Println(\"بوت: عذراً، حدث خطأ أثناء معالجة طلبك.\")\n",
        "\t\t\tcontinue // الاستمرار في الحلقة التالية\n",
        "\t\t}\n",
        "\n",
        "\t\t// طباعة استجابة النموذج\n",
        "\t\tprintResponse(resp)\n",
        "\t}\n",
        "}\n",
        "\n",
        "// دالة مساعدة لطباعة الاستجابة بشكل منظم\n",
        "func printResponse(resp *genai.GenerateContentResponse) {\n",
        "\tfmt.Print(\"بوت: \")\n",
        "\tif resp == nil || len(resp.Candidates) == 0 || resp.Candidates[0].Content == nil || len(resp.Candidates[0].Content.Parts) == 0 {\n",
        "\t\tfmt.Println(\"لم يتم تلقي أي محتوى من النموذج.\")\n",
        "\t\treturn\n",
        "\t}\n",
        "\t// استخراج النص من الاستجابة\n",
        "\t// قد تكون الاستجابة مقسمة لأجزاء، نجمعها هنا\n",
        "\tvar responseText strings.Builder\n",
        "\tfor _, part := range resp.Candidates[0].Content.Parts {\n",
        "        // نتأكد أن الجزء هو نص قبل إضافته\n",
        "        if textPart, ok := part.(genai.Text); ok {\n",
        "             responseText.WriteString(string(textPart))\n",
        "        }\n",
        "\t}\n",
        "    fmt.Println(responseText.String())\n",
        "}"
      ],
      "metadata": {
        "id": "3sQuSecgq9ht"
      },
      "execution_count": null,
      "outputs": []
    },
    {
      "cell_type": "code",
      "source": [
        "import os\n",
        "from google.colab import userdata\n",
        "\n",
        "# الوصول إلى السر المخزن في Colab\n",
        "gemini_api_key = userdata.get('GEMINI_API_KEY')\n",
        "\n",
        "# تعيينه كمتغير بيئة\n",
        "os.environ['GEMINI_API_KEY_ENV'] = gemini_api_key\n",
        "\n",
        "print(\"تم تعيين مفتاح API كمتغير بيئة.\")"
      ],
      "metadata": {
        "id": "8LeyLKnyrJut"
      },
      "execution_count": null,
      "outputs": []
    },
    {
      "cell_type": "code",
      "source": [],
      "metadata": {
        "id": "3Zu3eLearTft"
      },
      "execution_count": null,
      "outputs": []
    },
    {
      "cell_type": "code",
      "source": [],
      "metadata": {
        "id": "qvIg5v5erTcl"
      },
      "execution_count": null,
      "outputs": []
    },
    {
      "cell_type": "code",
      "source": [],
      "metadata": {
        "id": "dHuL5caErTY9"
      },
      "execution_count": null,
      "outputs": []
    },
    {
      "cell_type": "code",
      "source": [],
      "metadata": {
        "id": "ouUR0wH8rTSt"
      },
      "execution_count": null,
      "outputs": []
    },
    {
      "cell_type": "code",
      "source": [
        "%%writefile chatbot.go\n",
        "package main\n",
        "\n",
        "import (\n",
        "    \"bufio\"\n",
        "    \"context\"\n",
        "    \"fmt\"\n",
        "    \"log\"\n",
        "    \"os\"\n",
        "    \"strings\"\n",
        "\n",
        "    \"github.com/google/generative-ai-go/genai\"\n",
        "    \"google.golang.org/api/option\"\n",
        ")\n",
        "\n",
        "func main() {\n",
        "    // --- التعديل هنا ---\n",
        "    // احذف هذا السطر:\n",
        "    // apiKey := os.Getenv(\"GEMINI_API_KEY_ENV\")\n",
        "    // if apiKey == \"\" {\n",
        "    //     log.Fatal(\"لم يتم تعيين متغير البيئة GEMINI_API_KEY_ENV\")\n",
        "    // }\n",
        "\n",
        "    // وضع المفتاح مباشرة (غير آمن!)\n",
        "    // استبدل \"AIzaSy...\" بالمفتاح الفعلي الخاص بك\n",
        "    apiKey := \"XXXXXXXXXXX\" // <--- ضع المفتاح هنا مباشرة\n",
        "\n",
        "    // --- نهاية التعديل ---\n",
        "\n",
        "\n",
        "    ctx := context.Background()\n",
        "    // إنشاء عميل Gemini\n",
        "    client, err := genai.NewClient(ctx, option.WithAPIKey(apiKey)) // سيستخدم المفتاح الموضوع مباشرة\n",
        "    if err != nil {\n",
        "        log.Fatalf(\"فشل في إنشاء العميل: %v\", err)\n",
        "    }\n",
        "    defer client.Close()\n",
        "\n",
        "    // اختيار نموذج Gemini\n",
        "    model := client.GenerativeModel(\"gemini-1.5-flash-latest\")\n",
        "\n",
        "    fmt.Println(\"مرحباً! أنا شات بوت بسيط. اكتب 'خروج' للإنهاء.\")\n",
        "    fmt.Println(\"----------------------------------------------\")\n",
        "\n",
        "    // بدء حلقة المحادثة\n",
        "    scanner := bufio.NewScanner(os.Stdin)\n",
        "    for {\n",
        "        fmt.Print(\"أنت: \")\n",
        "        if !scanner.Scan() {\n",
        "            if err := scanner.Err(); err != nil {\n",
        "                log.Printf(\"خطأ في قراءة الإدخال: %v\", err)\n",
        "            }\n",
        "            break\n",
        "        }\n",
        "        userInput := scanner.Text()\n",
        "\n",
        "        if strings.ToLower(userInput) == \"خروج\" {\n",
        "            fmt.Println(\"وداعاً!\")\n",
        "            break\n",
        "        }\n",
        "\n",
        "        resp, err := model.GenerateContent(ctx, genai.Text(userInput))\n",
        "        if err != nil {\n",
        "            log.Printf(\"فشل في إنشاء الاستجابة: %v\", err)\n",
        "            fmt.Println(\"بوت: عذراً، حدث خطأ أثناء معالجة طلبك.\")\n",
        "            continue\n",
        "        }\n",
        "\n",
        "        printResponse(resp)\n",
        "    }\n",
        "}\n",
        "\n",
        "func printResponse(resp *genai.GenerateContentResponse) {\n",
        "    fmt.Print(\"بوت: \")\n",
        "    if resp == nil || len(resp.Candidates) == 0 || resp.Candidates[0].Content == nil || len(resp.Candidates[0].Content.Parts) == 0 {\n",
        "        fmt.Println(\"لم يتم تلقي أي محتوى من النموذج.\")\n",
        "        return\n",
        "    }\n",
        "    var responseText strings.Builder\n",
        "    for _, part := range resp.Candidates[0].Content.Parts {\n",
        "        if textPart, ok := part.(genai.Text); ok {\n",
        "             responseText.WriteString(string(textPart))\n",
        "        }\n",
        "    }\n",
        "    fmt.Println(responseText.String())\n",
        "}"
      ],
      "metadata": {
        "colab": {
          "base_uri": "https://localhost:8080/"
        },
        "id": "a1vjohhbrTPN",
        "outputId": "31b375eb-4417-482f-e79e-7b795c35f30a"
      },
      "execution_count": 6,
      "outputs": [
        {
          "output_type": "stream",
          "name": "stdout",
          "text": [
            "Writing chatbot.go\n"
          ]
        }
      ]
    },
    {
      "cell_type": "code",
      "source": [
        "!/usr/local/go/bin/go build chatbot.go\n",
        "!./chatbot"
      ],
      "metadata": {
        "colab": {
          "base_uri": "https://localhost:8080/"
        },
        "id": "k8TjwIPGsQgW",
        "outputId": "2add61c1-3b84-4e84-ccb5-a79d9eb01ed0"
      },
      "execution_count": 7,
      "outputs": [
        {
          "output_type": "stream",
          "name": "stdout",
          "text": [
            "مرحباً! أنا شات بوت بسيط. اكتب 'خروج' للإنهاء.\n",
            "----------------------------------------------\n",
            "أنت: اهلا بك\n",
            "بوت: أهلاً بك أيضاً! كيف يمكنني مساعدتك اليوم؟\n",
            "\n",
            "أنت: اكتب كود بلغة بايثون لطباعة مرحبا بالعالم\n",
            "بوت: هناك عدة طرق لطباعة \"مرحبا بالعالم\" في بايثون. إليك أبسطها:\n",
            "\n",
            "\n",
            "```python\n",
            "print(\"مرحبا بالعالم\")\n",
            "```\n",
            "\n",
            "هذا الكود سيقوم بطباعة الجملة \"مرحبا بالعالم\" مباشرةً على الشاشة.  لا يحتاج إلى أي مكتبات إضافية.\n",
            "\n",
            "أنت: ^C\n"
          ]
        }
      ]
    },
    {
      "cell_type": "code",
      "source": [],
      "metadata": {
        "id": "0BioE0lXsQ8d"
      },
      "execution_count": null,
      "outputs": []
    }
  ]
}